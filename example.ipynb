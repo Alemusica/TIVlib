{
 "cells": [
  {
   "cell_type": "code",
   "execution_count": 27,
   "metadata": {
    "pycharm": {
     "name": "#%%\n"
    }
   },
   "outputs": [],
   "source": [
    "import TIVlib as tiv\n",
    "import numpy as np"
   ]
  },
  {
   "cell_type": "code",
   "execution_count": 28,
   "metadata": {},
   "outputs": [],
   "source": [
    "from essentia.standard import MonoLoader, Windowing, Spectrum, SpectralPeaks, FrameGenerator, HPCP\n",
    "\n",
    "def file_to_hpcp(filename):\n",
    "  audio = MonoLoader(filename=filename)()\n",
    "  windowing = Windowing(type='blackmanharris62')\n",
    "  spectrum = Spectrum()\n",
    "  spectral_peaks = SpectralPeaks(orderBy='magnitude',\n",
    "                                    magnitudeThreshold=0.001,\n",
    "                                    maxPeaks=20,\n",
    "                                    minFrequency=20,\n",
    "                                    maxFrequency=8000)\n",
    "  hpcp = HPCP(maxFrequency=8000,\n",
    "              normalized='unitSum')\n",
    "\n",
    "  spec_group = []\n",
    "  hpcp_group = []\n",
    "\n",
    "\n",
    "  for frame in FrameGenerator(audio,frameSize=1024,hopSize=512):\n",
    "    windowed = windowing(frame)\n",
    "    fft = spectrum(windowed)\n",
    "    frequencies, magnitudes = spectral_peaks(fft)\n",
    "    final_hpcp = hpcp(frequencies, magnitudes)\n",
    "\n",
    "    spec_group.append(fft)\n",
    "    hpcp_group.append(final_hpcp)\n",
    "    \n",
    "  mean_hpcp = np.mean(np.array(hpcp_group).T, axis = 1)\n",
    "  return mean_hpcp\n"
   ]
  },
  {
   "cell_type": "code",
   "execution_count": 29,
   "metadata": {},
   "outputs": [],
   "source": [
    "import librosa\n",
    "\n",
    "def file_to_chroma(filename):\n",
    "    audio = librosa.core.load(filename)\n",
    "    chromagram = librosa.feature.chroma_stft(audio)\n",
    "    print (chromagram)\n",
    "    mean_chromagram = np.mean(chromagram,axis = 0)\n",
    "    return mean_chromagram\n",
    "    "
   ]
  },
  {
   "cell_type": "code",
   "execution_count": 30,
   "metadata": {},
   "outputs": [
    {
     "name": "stdout",
     "output_type": "stream",
     "text": [
      "[0.01680101 0.01739293 0.02135463 0.03086618 0.03273978 0.04162527\n",
      " 0.02266426 0.05893418 0.61454886 0.02947111 0.02630138 0.02236531]\n",
      "[0.0000000e+00 7.1136880e-04 7.5755358e-02 3.0303048e-03 0.0000000e+00\n",
      " 5.3012510e-08 7.4694995e-05 0.0000000e+00 8.4052950e-02 0.0000000e+00\n",
      " 2.7699830e-06 8.8697798e-06]\n"
     ]
    }
   ],
   "source": [
    "metal = \"./audio_files/metal.wav\"\n",
    "glass = \"./audio_files/glass.wav\"\n",
    "\n",
    "metal_hpcp = file_to_hpcp(metal)\n",
    "glass_hpcp = file_to_hpcp(glass)\n",
    "#metal_chroma = file_to_chroma(metal)\n",
    "#glass_chroma = file_to_chroma(glass)\n",
    "\n",
    "print(metal_hpcp)\n",
    "print(glass_hpcp)\n",
    "#print(metal_chroma)\n",
    "#print(glass_chroma)\n"
   ]
  },
  {
   "cell_type": "code",
   "execution_count": 31,
   "metadata": {},
   "outputs": [
    {
     "ename": "ValueError",
     "evalue": "operands could not be broadcast together with shapes (15,) (6,) ",
     "output_type": "error",
     "traceback": [
      "\u001b[0;31m---------------------------------------------------------------------------\u001b[0m",
      "\u001b[0;31mValueError\u001b[0m                                Traceback (most recent call last)",
      "\u001b[0;32m<ipython-input-31-6ff6fc18cd43>\u001b[0m in \u001b[0;36m<module>\u001b[0;34m\u001b[0m\n\u001b[0;32m----> 1\u001b[0;31m \u001b[0mmetal_tiv\u001b[0m \u001b[0;34m=\u001b[0m \u001b[0mtiv\u001b[0m\u001b[0;34m.\u001b[0m\u001b[0mtiv\u001b[0m\u001b[0;34m.\u001b[0m\u001b[0mTIV\u001b[0m\u001b[0;34m.\u001b[0m\u001b[0mfrom_pcp\u001b[0m\u001b[0;34m(\u001b[0m\u001b[0mmetal_hpcp\u001b[0m\u001b[0;34m)\u001b[0m\u001b[0;34m\u001b[0m\u001b[0;34m\u001b[0m\u001b[0m\n\u001b[0m",
      "\u001b[0;32m/mnt/f/code/Research/TIVlib/TIVlib/tiv.py\u001b[0m in \u001b[0;36mfrom_pcp\u001b[0;34m(cls, pcp)\u001b[0m\n\u001b[1;32m    115\u001b[0m         \u001b[0mfft\u001b[0m \u001b[0;34m=\u001b[0m \u001b[0mnp\u001b[0m\u001b[0;34m.\u001b[0m\u001b[0mfft\u001b[0m\u001b[0;34m.\u001b[0m\u001b[0mfft\u001b[0m\u001b[0;34m(\u001b[0m\u001b[0mpcp\u001b[0m\u001b[0;34m,\u001b[0m\u001b[0;36m16\u001b[0m\u001b[0;34m)\u001b[0m\u001b[0;34m\u001b[0m\u001b[0;34m\u001b[0m\u001b[0m\n\u001b[1;32m    116\u001b[0m         \u001b[0menergy\u001b[0m \u001b[0;34m=\u001b[0m \u001b[0mfft\u001b[0m\u001b[0;34m[\u001b[0m\u001b[0;36m7\u001b[0m\u001b[0;34m]\u001b[0m\u001b[0;34m\u001b[0m\u001b[0;34m\u001b[0m\u001b[0m\n\u001b[0;32m--> 117\u001b[0;31m         \u001b[0mvector\u001b[0m \u001b[0;34m=\u001b[0m \u001b[0mfft\u001b[0m\u001b[0;34m[\u001b[0m\u001b[0;36m8\u001b[0m\u001b[0;34m:\u001b[0m\u001b[0;36m15\u001b[0m\u001b[0;34m]\u001b[0m\u001b[0;34m\u001b[0m\u001b[0;34m\u001b[0m\u001b[0m\n\u001b[0m\u001b[1;32m    118\u001b[0m         \u001b[0mvector\u001b[0m \u001b[0;34m=\u001b[0m \u001b[0;34m(\u001b[0m\u001b[0mvector\u001b[0m \u001b[0;34m*\u001b[0m \u001b[0mcls\u001b[0m\u001b[0;34m.\u001b[0m\u001b[0mweights\u001b[0m\u001b[0;34m)\u001b[0m \u001b[0;34m/\u001b[0m \u001b[0menergy\u001b[0m\u001b[0;34m\u001b[0m\u001b[0;34m\u001b[0m\u001b[0m\n\u001b[1;32m    119\u001b[0m         \u001b[0;32mreturn\u001b[0m \u001b[0mcls\u001b[0m\u001b[0;34m(\u001b[0m\u001b[0menergy\u001b[0m\u001b[0;34m,\u001b[0m\u001b[0mvector\u001b[0m\u001b[0;34m)\u001b[0m\u001b[0;34m\u001b[0m\u001b[0;34m\u001b[0m\u001b[0m\n",
      "\u001b[0;31mValueError\u001b[0m: operands could not be broadcast together with shapes (15,) (6,) "
     ]
    }
   ],
   "source": [
    "metal_tiv = tiv.tiv.TIV.from_pcp(metal_hpcp)"
   ]
  },
  {
   "cell_type": "code",
   "execution_count": null,
   "metadata": {},
   "outputs": [],
   "source": [
    "tiv.tiv.key()"
   ]
  }
 ],
 "metadata": {
  "kernelspec": {
   "display_name": "Python 3",
   "language": "python",
   "name": "python3"
  },
  "language_info": {
   "codemirror_mode": {
    "name": "ipython",
    "version": 3
   },
   "file_extension": ".py",
   "mimetype": "text/x-python",
   "name": "python",
   "nbconvert_exporter": "python",
   "pygments_lexer": "ipython3",
   "version": "3.6.7"
  },
  "pycharm": {
   "stem_cell": {
    "cell_type": "raw",
    "metadata": {
     "collapsed": false
    },
    "source": [
     "\n",
     "\n",
     "%Using essentia for HPCP\n",
     "\n",
     "from essentia.standard import MonoLoader, Windowing, Spectrum, SpectralPeaks, FrameGenerator, HPCP\n",
     "\n",
     "def file_to_hpcp(filename, plot=True):\n",
     "  audio = MonoLoader(filename=filename)()\n",
     "  if(plot):\n",
     "    IPython.display.display(IPython.display.Audio(audio,rate=44100))\n",
     "\n",
     "    plt.figure(1)\n",
     "    plt.title('Waveform of the sound')\n",
     "    plt.plot(audio)\n",
     "    plt.show()\n",
     "\n",
     "\n",
     "  windowing = Windowing(type='blackmanharris62')\n",
     "  spectrum = Spectrum()\n",
     "  spectral_peaks = SpectralPeaks(orderBy='magnitude',\n",
     "                                    magnitudeThreshold=0.001,\n",
     "                                    maxPeaks=20,\n",
     "                                    minFrequency=20,\n",
     "                                    maxFrequency=8000)\n",
     "  hpcp = HPCP(maxFrequency=8000,\n",
     "              normalized='unitSum')\n",
     "\n",
     "  spec_group = []\n",
     "  hpcp_group = []\n",
     "\n",
     "\n",
     "  for frame in FrameGenerator(audio,frameSize=1024,hopSize=512):\n",
     "    windowed = windowing(frame)\n",
     "    fft = spectrum(windowed)\n",
     "    frequencies, magnitudes = spectral_peaks(fft)\n",
     "    final_hpcp = hpcp(frequencies, magnitudes)\n",
     "\n",
     "    spec_group.append(fft)\n",
     "    hpcp_group.append(final_hpcp)\n",
     "    \n",
     "  mean_hpcp = np.mean(np.array(hpcp_group).T, axis = 1)\n",
     "  #normalize to 1\n",
     "  mean_hpcp = mean_hpcp/sum(mean_hpcp)\n",
     "\n",
     "  if(plot):\n",
     "    plt.figure(2)\n",
     "    plt.title('FFT of the sound')\n",
     "    plt.imshow(np.array(spec_group).T,aspect='auto', origin='lower', interpolation='none')\n",
     "    plt.show()\n",
     "\n",
     "\n",
     "    plt.figure(3)\n",
     "    plt.title('Normalized HPCP of the sound')\n",
     "    plt.imshow(np.array(hpcp_group).T,aspect='auto', origin='lower', interpolation='none')\n",
     "    plt.show()\n",
     "    \n",
     "    plt.figure(3)\n",
     "    plt.title('Mean HPCP of the sound')\n",
     "    plt.plot(mean_hpcp)\n",
     "    plt.show()\n",
     "\n",
     "    print (mean_hpcp)\n",
     "    \n",
     "  return mean_hpcp\n",
     "\n",
     "% Using librosa for chroma\n"
    ]
   }
  }
 },
 "nbformat": 4,
 "nbformat_minor": 1
}
