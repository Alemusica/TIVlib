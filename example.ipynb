{
 "cells": [
  {
   "cell_type": "code",
   "execution_count": 1,
   "metadata": {
    "pycharm": {
     "name": "#%%\n",
     "is_executing": false
    }
   },
   "outputs": [],
   "source": [
    "from TIVlib import TIV as tiv\n",
    "import numpy as np"
   ]
  },
  {
   "cell_type": "code",
   "execution_count": 2,
   "metadata": {
    "pycharm": {
     "is_executing": false
    }
   },
   "outputs": [],
   "source": [
    "from essentia.standard import MonoLoader, Windowing, Spectrum, SpectralPeaks, FrameGenerator, HPCP\n",
    "\n",
    "def file_to_hpcp(filename):\n",
    "    audio = MonoLoader(filename=filename)()\n",
    "    windowing = Windowing(type='blackmanharris62')\n",
    "    spectrum = Spectrum()\n",
    "    spectral_peaks = SpectralPeaks(orderBy='magnitude',\n",
    "                                    magnitudeThreshold=0.001,\n",
    "                                    maxPeaks=20,\n",
    "                                    minFrequency=20,\n",
    "                                    maxFrequency=8000)\n",
    "    hpcp = HPCP(maxFrequency=8000)#,\n",
    "                #normalized='unitSum') #VERIFICAR QUE ISTO E O Q FAZ SENTIDO FAZER\n",
    "\n",
    "    spec_group = []\n",
    "    hpcp_group = []\n",
    "\n",
    "\n",
    "    for frame in FrameGenerator(audio,frameSize=1024,hopSize=512):\n",
    "        windowed = windowing(frame)\n",
    "        fft = spectrum(windowed)\n",
    "        frequencies, magnitudes = spectral_peaks(fft)\n",
    "        final_hpcp = hpcp(frequencies, magnitudes)\n",
    "  \n",
    "        spec_group.append(fft)\n",
    "        hpcp_group.append(final_hpcp)\n",
    "    \n",
    "    mean_hpcp = np.mean(np.array(hpcp_group).T, axis = 1)\n",
    "    return mean_hpcp\n"
   ]
  },
  {
   "cell_type": "code",
   "execution_count": 3,
   "metadata": {
    "pycharm": {
     "is_executing": false
    }
   },
   "outputs": [],
   "source": [
    "import librosa\n",
    "\n",
    "def file_to_chroma(filename):\n",
    "    audio = librosa.core.load(filename)\n",
    "    chromagram = librosa.feature.chroma_stft(audio)\n",
    "    mean_chromagram = np.mean(chromagram,axis = 0)\n",
    "    return mean_chromagram\n",
    "    "
   ]
  },
  {
   "cell_type": "code",
   "execution_count": 4,
   "metadata": {
    "pycharm": {
     "is_executing": false
    }
   },
   "outputs": [
    {
     "name": "stdout",
     "text": [
      "[0.12129802 0.05917358 0.45434016 0.10870729 0.06562333 0.18784837\n 0.06395689 0.20368908 0.33719265 0.23844443 0.4086578  0.23597324]\n[0.0681638  0.07649639 0.11990734 0.5185062  0.13587664 0.59902704\n 0.02990397 0.02755004 0.03158808 0.06971347 0.3023119  0.03601518]\n[0.5967302  0.0162619  0.03606837 0.02043917 0.01118849 0.00457193\n 0.00380262 0.02685544 0.00716404 0.00783676 0.02145327 0.05504963]\n[0.22239211 0.07566216 0.2681238  0.54455334 0.5094189  0.32932517\n 0.30931228 0.07360709 0.4644884  0.03752574 0.4839929  0.42495385]\n[0.22539693 0.5296318  0.0144083  0.11218187 0.19725884 0.5986084\n 0.5347381  0.4375823  0.1944686  0.15746927 0.16555394 0.19835375]\n"
     ],
     "output_type": "stream"
    }
   ],
   "source": [
    "#Reference: CMaj chord\n",
    "c_maj = \"./audio_files/149282__strever953__rhythmguitar-cmaj-p105.wav\"\n",
    "#Consonant chords: GMaj, Amin\n",
    "g_maj = \"./audio_files/109999__keider__gmaj-5th-position.wav\"\n",
    "a_min = \"./audio_files/8455__speedy__amin-full.wav\"\n",
    "#Dissonant chords: C#Maj, D#min\n",
    "c_sharp_maj = \"./audio_files/47848__godlesswonder__c-sharp-maj.wav\"\n",
    "d_sharp_min = \"./audio_files/47862__godlesswonder__d-sharp-min.wav\"\n",
    "\n",
    "#Calculate the HPCP for each of the chords\n",
    "c_maj_hpcp = file_to_hpcp(c_maj)\n",
    "g_maj_hpcp = file_to_hpcp(g_maj)\n",
    "a_min_hpcp = file_to_hpcp(a_min)\n",
    "c_sharp_maj_hpcp = file_to_hpcp(c_sharp_maj)\n",
    "d_sharp_min_hpcp = file_to_hpcp(d_sharp_min)\n",
    "\n",
    "#Calculate the TIV for each HPCP\n",
    "c_maj_tiv = tiv.from_pcp(c_maj_hpcp)\n",
    "g_maj_tiv = tiv.from_pcp(g_maj_hpcp)\n",
    "a_min_tiv = tiv.from_pcp(a_min_hpcp)\n",
    "c_sharp_maj_tiv = tiv.from_pcp(c_sharp_maj_hpcp)\n",
    "d_sharp_min_tiv = tiv.from_pcp(d_sharp_min_hpcp)\n",
    "\n",
    "print(c_maj_hpcp)\n",
    "print(g_maj_hpcp)\n",
    "print(a_min_hpcp)\n",
    "print(c_sharp_maj_hpcp)\n",
    "print(d_sharp_min_hpcp)\n"
   ]
  },
  {
   "cell_type": "code",
   "execution_count": 5,
   "metadata": {
    "pycharm": {
     "is_executing": false
    }
   },
   "outputs": [
    {
     "name": "stdout",
     "text": [
      "CMaj TIV.mag\n[0.56551284 1.51737116 1.88691636 3.66442848 2.17161312 1.25930228]\nTIV weights\n[3, 8, 11.5, 15, 14.5, 7.5]\nCMaj TIV.phases\n[ 1.12029624 -2.8503086   2.98669442  2.39079654  0.08186771  0.        ]\nCMaj diatonicity\n0.14976642228434311\nCMaj wholetoneness\n0.1679069702336124\nCMaj chromaticity\n0.1885042792559685\n"
     ],
     "output_type": "stream"
    }
   ],
   "source": [
    "#Examples on the magnitude and phase features\n",
    "print(\"CMaj TIV.mag\")\n",
    "print(c_maj_tiv.mags())\n",
    "print(\"TIV weights\")\n",
    "print(c_maj_tiv.weights)\n",
    "print(\"CMaj TIV.phases\")\n",
    "print(c_maj_tiv.phases())\n",
    "print(\"CMaj diatonicity\")\n",
    "print(c_maj_tiv.diatonicity())\n",
    "print(\"CMaj wholetoneness\")\n",
    "print(c_maj_tiv.wholetoneness())\n",
    "print(\"CMaj chromaticity\")\n",
    "print(c_maj_tiv.chromaticity())"
   ]
  },
  {
   "cell_type": "code",
   "execution_count": 6,
   "metadata": {
    "pycharm": {
     "is_executing": false
    }
   },
   "outputs": [
    {
     "name": "stdout",
     "text": [
      "CMaj from Temperley profiles and the Shaath\n('d', 'min')\n('g', 'min')\nGMaj from Temperley profiles and the Shaath\n('bb', 'min')\n('bb', 'min')\nAmin from Temperley profiles and the Shaath\n('c', 'min')\n('c', 'min')\nC#Maj from Temperley profiles and the Shaath\n('eb', 'min')\n('ab', 'min')\nD#min from Temperley profiles and the Shaath\n('bb', 'min')\n('gb', 'min')\n"
     ],
     "output_type": "stream"
    }
   ],
   "source": [
    "#Example on extracting keys\n",
    "#Values are not the same as before\n",
    "print(\"CMaj from Temperley profiles and the Shaath\")\n",
    "print(c_maj_tiv.key(mode='temperley'))\n",
    "print(c_maj_tiv.key(mode='shaath'))\n",
    "print(\"GMaj from Temperley profiles and the Shaath\")\n",
    "print(g_maj_tiv.key(mode='temperley'))\n",
    "print(g_maj_tiv.key(mode='shaath'))\n",
    "print(\"Amin from Temperley profiles and the Shaath\")\n",
    "print(a_min_tiv.key(mode='temperley'))\n",
    "print(a_min_tiv.key(mode='shaath'))\n",
    "print(\"C#Maj from Temperley profiles and the Shaath\")\n",
    "print(c_sharp_maj_tiv.key(mode='temperley'))\n",
    "print(c_sharp_maj_tiv.key(mode='shaath'))\n",
    "print(\"D#min from Temperley profiles and the Shaath\")\n",
    "print(d_sharp_min_tiv.key(mode='temperley'))\n",
    "print(d_sharp_min_tiv.key(mode='shaath'))"
   ]
  },
  {
   "cell_type": "code",
   "execution_count": 7,
   "metadata": {
    "pycharm": {
     "is_executing": false
    }
   },
   "outputs": [
    {
     "name": "stdout",
     "text": [
      "Dissonance CMaj + GMaj\n0.795977439757471\nDissonance CMaj + Amin\n0.7996018849508947\nDissonance CMaj + C#Maj\n0.863371569918294\nDissonance CMaj + D#min\n0.9067660677290184\n"
     ],
     "output_type": "stream"
    }
   ],
   "source": [
    "#Example on combining sounds and evaluate its dissonance\n",
    "combined_GM = tiv.combine(c_maj_tiv, g_maj_tiv)\n",
    "combined_Am = tiv.combine(c_maj_tiv, a_min_tiv)\n",
    "combined_CSM = tiv.combine(c_maj_tiv, c_sharp_maj_tiv)\n",
    "combined_DSm = tiv.combine(c_maj_tiv, d_sharp_min_tiv)\n",
    "\n",
    "print(\"Dissonance CMaj + GMaj\")\n",
    "print(tiv.dissonance(combined_GM))\n",
    "print(\"Dissonance CMaj + Amin\")\n",
    "print(tiv.dissonance(combined_Am))\n",
    "print(\"Dissonance CMaj + C#Maj\")\n",
    "print(tiv.dissonance(combined_CSM))\n",
    "print(\"Dissonance CMaj + D#min\")\n",
    "print(tiv.dissonance(combined_DSm))"
   ]
  },
  {
   "cell_type": "code",
   "execution_count": 8,
   "metadata": {
    "pycharm": {
     "is_executing": false
    }
   },
   "outputs": [
    {
     "name": "stdout",
     "text": [
      "Euclidean and cosine distance between CMaj and GMaj\n8.920390652512383\n0.9507921105281375\nEuclidean and cosine distance between CMaj and AMin\n20.030842685142055\n1.2898984003651803\nEuclidean and cosine distance between CMaj and C#Maj\n5.916414793890325\nnan\nEuclidean and cosine distance between CMaj and D#min\n7.81641512070811\nnan\n"
     ],
     "output_type": "stream"
    },
    {
     "name": "stderr",
     "text": [
      "/home/miguel/PycharmProjects/TIVlib/TIVlib/tiv.py:191: RuntimeWarning: invalid value encountered in arccos\n  return np.arccos(np.dot(tiv1_split, tiv2_split) / (np.linalg.norm(tiv1.vector) * np.linalg.norm(tiv2.vector)))\n"
     ],
     "output_type": "stream"
    }
   ],
   "source": [
    "#Example on calculating the distances between sounds\n",
    "print(\"Euclidean and cosine distance between CMaj and GMaj\")\n",
    "print(tiv.euclidean(c_maj_tiv,g_maj_tiv))\n",
    "print(tiv.cosine(c_maj_tiv,g_maj_tiv))\n",
    "\n",
    "print(\"Euclidean and cosine distance between CMaj and AMin\")\n",
    "print(tiv.euclidean(c_maj_tiv,a_min_tiv))\n",
    "print(tiv.cosine(c_maj_tiv,a_min_tiv))\n",
    "\n",
    "print(\"Euclidean and cosine distance between CMaj and C#Maj\")\n",
    "print(tiv.euclidean(c_maj_tiv,c_sharp_maj_tiv))\n",
    "print(tiv.cosine(c_maj_tiv,c_sharp_maj_tiv))\n",
    "\n",
    "print(\"Euclidean and cosine distance between CMaj and D#min\")\n",
    "print(tiv.euclidean(c_maj_tiv,d_sharp_min_tiv))\n",
    "print(tiv.cosine(c_maj_tiv,d_sharp_min_tiv))\n"
   ]
  },
  {
   "cell_type": "code",
   "execution_count": 9,
   "metadata": {
    "pycharm": {
     "is_executing": false
    }
   },
   "outputs": [
    {
     "data": {
      "text/plain": "<Figure size 432x288 with 1 Axes>",
      "image/png": "[encoded data removed]"
     },
     "metadata": {
      "needs_background": "light"
     },
     "output_type": "display_data"
    },
    {
     "name": "stderr",
     "text": [
      "/home/miguel/PycharmProjects/TIVlib/venv/lib/python3.7/site-packages/numpy/core/_asarray.py:85: ComplexWarning: Casting complex values to real discards the imaginary part\n  return array(a, dtype, copy=False, order=order)\n"
     ],
     "output_type": "stream"
    },
    {
     "data": {
      "text/plain": "<Figure size 432x288 with 1 Axes>",
      "image/png": "[encoded data removed]"
     },
     "metadata": {
      "needs_background": "light"
     },
     "output_type": "display_data"
    },
    {
     "data": {
      "text/plain": "<Figure size 432x288 with 1 Axes>",
      "image/png": "[encoded data removed]"
     },
     "metadata": {
      "needs_background": "light"
     },
     "output_type": "display_data"
    },
    {
     "data": {
      "text/plain": "<Figure size 432x288 with 1 Axes>",
      "image/png": "[encoded data removed]"
     },
     "metadata": {
      "needs_background": "light"
     },
     "output_type": "display_data"
    },
    {
     "name": "stdout",
     "text": [
      "tiv.mag: [ 0.0220785   7.89372815  0.26226169 14.42813166  0.59960706  7.12468006]\ntiv.phases: [-2.2928869  -2.10561931  0.62316499  2.08204292 -1.94468129  0.        ]\ntiv.diatonicity: 0.041352211011223515\ntiv.wholetoneness: 0.9499573412048802\ntiv.chromacity: 0.007359499029499668\ntiv.phases: [-2.2928869  -2.10561931  0.62316499  2.08204292 -1.94468129  0.        ]\ntiv.dissonance: 0.3205335780471672\ntiv.key(temperley): ('C', 'maj')\ntiv.key(shaath): ('ab', 'min')\ntiv.distances.euclidean: 12.334060476980932\ntiv.distances.cosine: nan\n"
     ],
     "output_type": "stream"
    }
   ],
   "source": [
    "#Testing\n",
    "\n",
    "%matplotlib inline\n",
    "import matplotlib.pyplot as plt\n",
    "\n",
    "\n",
    "\n",
    "metal = \"./audio_files/metal.wav\"\n",
    "glass = \"./audio_files/glass.wav\"\n",
    "\n",
    "metal_hpcp = file_to_hpcp(metal)\n",
    "glass_hpcp = file_to_hpcp(glass)\n",
    "\n",
    "metal_tiv = tiv.from_pcp(metal_hpcp)\n",
    "glass_tiv = tiv.from_pcp(glass_hpcp)\n",
    "\n",
    "plt.figure(1)\n",
    "plt.title('HPCP Metal')\n",
    "plt.plot(metal_hpcp/np.sum(metal_hpcp))\n",
    "plt.show()\n",
    "\n",
    "plt.figure(2)\n",
    "plt.title('TIV Metal')\n",
    "plt.plot(metal_tiv.vector)\n",
    "plt.show()\n",
    "\n",
    "plt.figure(3)\n",
    "plt.title('HPCP Glass')\n",
    "plt.plot(glass_hpcp/np.sum(glass_hpcp))\n",
    "plt.show()\n",
    "\n",
    "plt.figure(4)\n",
    "plt.title('TIV Glass')\n",
    "plt.plot(glass_tiv.vector)\n",
    "plt.show()\n",
    "\n",
    "print(\"tiv.mag: \" + str(tiv.mags(glass_tiv)))\n",
    "print(\"tiv.phases: \" + str(tiv.phases(glass_tiv)))\n",
    "print(\"tiv.diatonicity: \" + str(tiv.diatonicity(glass_tiv)))\n",
    "print(\"tiv.wholetoneness: \" + str(tiv.wholetoneness(glass_tiv)))\n",
    "print(\"tiv.chromacity: \" + str(tiv.chromaticity(glass_tiv)))\n",
    "print(\"tiv.phases: \" + str(tiv.phases(glass_tiv)))\n",
    "print(\"tiv.dissonance: \" + str(tiv.dissonance(glass_tiv)))\n",
    "print(\"tiv.key(temperley): \" + str(tiv.key(glass_tiv)))\n",
    "print(\"tiv.key(shaath): \" + str(tiv.key(glass_tiv,mode='shaath')))\n",
    "print(\"tiv.distances.euclidean: \" + str(tiv.euclidean(glass_tiv, metal_tiv)))\n",
    "print(\"tiv.distances.cosine: \" + str(tiv.cosine(glass_tiv, metal_tiv)))"
   ]
  },
  {
   "cell_type": "code",
   "execution_count": 10,
   "outputs": [
    {
     "data": {
      "text/plain": "<Figure size 432x288 with 6 Axes>",
      "image/png": "[encoded data removed]"
     },
     "metadata": {
      "needs_background": "light"
     },
     "output_type": "display_data"
    }
   ],
   "source": [
    "c_maj_tiv.plot_tiv()\n"
   ],
   "metadata": {
    "collapsed": false,
    "pycharm": {
     "name": "#%%\n",
     "is_executing": false
    }
   }
  }
 ],
 "metadata": {
  "kernelspec": {
   "display_name": "Python 3",
   "language": "python",
   "name": "python3"
  },
  "language_info": {
   "codemirror_mode": {
    "name": "ipython",
    "version": 3
   },
   "file_extension": ".py",
   "mimetype": "text/x-python",
   "name": "python",
   "nbconvert_exporter": "python",
   "pygments_lexer": "ipython3",
   "version": "3.6.7"
  },
  "pycharm": {
   "stem_cell": {
    "cell_type": "raw",
    "source": [
     "\n",
     "\n",
     "%Using essentia for HPCP\n",
     "\n",
     "from essentia.standard import MonoLoader, Windowing, Spectrum, SpectralPeaks, FrameGenerator, HPCP\n",
     "\n",
     "def file_to_hpcp(filename, plot=True):\n",
     "  audio = MonoLoader(filename=filename)()\n",
     "  if(plot):\n",
     "    IPython.display.display(IPython.display.Audio(audio,rate=44100))\n",
     "\n",
     "    plt.figure(1)\n",
     "    plt.title('Waveform of the sound')\n",
     "    plt.plot(audio)\n",
     "    plt.show()\n",
     "\n",
     "\n",
     "  windowing = Windowing(type='blackmanharris62')\n",
     "  spectrum = Spectrum()\n",
     "  spectral_peaks = SpectralPeaks(orderBy='magnitude',\n",
     "                                    magnitudeThreshold=0.001,\n",
     "                                    maxPeaks=20,\n",
     "                                    minFrequency=20,\n",
     "                                    maxFrequency=8000)\n",
     "  hpcp = HPCP(maxFrequency=8000,\n",
     "              normalized='unitSum')\n",
     "\n",
     "  spec_group = []\n",
     "  hpcp_group = []\n",
     "\n",
     "\n",
     "  for frame in FrameGenerator(audio,frameSize=1024,hopSize=512):\n",
     "    windowed = windowing(frame)\n",
     "    fft = spectrum(windowed)\n",
     "    frequencies, magnitudes = spectral_peaks(fft)\n",
     "    final_hpcp = hpcp(frequencies, magnitudes)\n",
     "\n",
     "    spec_group.append(fft)\n",
     "    hpcp_group.append(final_hpcp)\n",
     "    \n",
     "  mean_hpcp = np.mean(np.array(hpcp_group).T, axis = 1)\n",
     "  #normalize to 1\n",
     "  mean_hpcp = mean_hpcp/sum(mean_hpcp)\n",
     "\n",
     "  if(plot):\n",
     "    plt.figure(2)\n",
     "    plt.title('FFT of the sound')\n",
     "    plt.imshow(np.array(spec_group).T,aspect='auto', origin='lower', interpolation='none')\n",
     "    plt.show()\n",
     "\n",
     "\n",
     "    plt.figure(3)\n",
     "    plt.title('Normalized HPCP of the sound')\n",
     "    plt.imshow(np.array(hpcp_group).T,aspect='auto', origin='lower', interpolation='none')\n",
     "    plt.show()\n",
     "    \n",
     "    plt.figure(3)\n",
     "    plt.title('Mean HPCP of the sound')\n",
     "    plt.plot(mean_hpcp)\n",
     "    plt.show()\n",
     "\n",
     "    print (mean_hpcp)\n",
     "    \n",
     "  return mean_hpcp\n",
     "\n",
     "% Using librosa for chroma\n"
    ],
    "metadata": {
     "collapsed": false
    }
   }
  }
 },
 "nbformat": 4,
 "nbformat_minor": 1
}